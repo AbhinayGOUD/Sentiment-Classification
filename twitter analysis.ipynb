{
  "nbformat": 4,
  "nbformat_minor": 0,
  "metadata": {
    "colab": {
      "name": "Untitled14.ipynb",
      "provenance": [],
      "collapsed_sections": []
    },
    "kernelspec": {
      "name": "python3",
      "display_name": "Python 3"
    },
    "language_info": {
      "name": "python"
    }
  },
  "cells": [
    {
      "cell_type": "markdown",
      "metadata": {
        "id": "bsOF6QEnhLPr"
      },
      "source": [
        "Importing of libraries\n"
      ]
    },
    {
      "cell_type": "code",
      "metadata": {
        "id": "MCD8Tke1fBi6"
      },
      "source": [
        "import pandas as pd\n",
        "import numpy as np \n",
        "import tensorflow as tf\n",
        "from matplotlib import pyplot as plt"
      ],
      "execution_count": 81,
      "outputs": []
    },
    {
      "cell_type": "markdown",
      "metadata": {
        "id": "lp_BILmSjVLl"
      },
      "source": [
        "reading the Data"
      ]
    },
    {
      "cell_type": "code",
      "metadata": {
        "id": "GwWtJexthXnU"
      },
      "source": [
        " df=pd.read_csv('Twitter_Data.csv')"
      ],
      "execution_count": 50,
      "outputs": []
    },
    {
      "cell_type": "markdown",
      "metadata": {
        "id": "z3XDScoPjm2z"
      },
      "source": [
        "printing of data frame"
      ]
    },
    {
      "cell_type": "code",
      "metadata": {
        "colab": {
          "base_uri": "https://localhost:8080/",
          "height": 204
        },
        "id": "6rCw1MnRjlZG",
        "outputId": "eadfe095-1f68-4f2c-96b5-4372965ac16b"
      },
      "source": [
        "df.head()"
      ],
      "execution_count": 51,
      "outputs": [
        {
          "output_type": "execute_result",
          "data": {
            "text/html": [
              "<div>\n",
              "<style scoped>\n",
              "    .dataframe tbody tr th:only-of-type {\n",
              "        vertical-align: middle;\n",
              "    }\n",
              "\n",
              "    .dataframe tbody tr th {\n",
              "        vertical-align: top;\n",
              "    }\n",
              "\n",
              "    .dataframe thead th {\n",
              "        text-align: right;\n",
              "    }\n",
              "</style>\n",
              "<table border=\"1\" class=\"dataframe\">\n",
              "  <thead>\n",
              "    <tr style=\"text-align: right;\">\n",
              "      <th></th>\n",
              "      <th>clean_text</th>\n",
              "      <th>category</th>\n",
              "    </tr>\n",
              "  </thead>\n",
              "  <tbody>\n",
              "    <tr>\n",
              "      <th>0</th>\n",
              "      <td>when modi promised “minimum government maximum...</td>\n",
              "      <td>-1.0</td>\n",
              "    </tr>\n",
              "    <tr>\n",
              "      <th>1</th>\n",
              "      <td>talk all the nonsense and continue all the dra...</td>\n",
              "      <td>0.0</td>\n",
              "    </tr>\n",
              "    <tr>\n",
              "      <th>2</th>\n",
              "      <td>what did just say vote for modi  welcome bjp t...</td>\n",
              "      <td>1.0</td>\n",
              "    </tr>\n",
              "    <tr>\n",
              "      <th>3</th>\n",
              "      <td>asking his supporters prefix chowkidar their n...</td>\n",
              "      <td>1.0</td>\n",
              "    </tr>\n",
              "    <tr>\n",
              "      <th>4</th>\n",
              "      <td>answer who among these the most powerful world...</td>\n",
              "      <td>1.0</td>\n",
              "    </tr>\n",
              "  </tbody>\n",
              "</table>\n",
              "</div>"
            ],
            "text/plain": [
              "                                          clean_text  category\n",
              "0  when modi promised “minimum government maximum...      -1.0\n",
              "1  talk all the nonsense and continue all the dra...       0.0\n",
              "2  what did just say vote for modi  welcome bjp t...       1.0\n",
              "3  asking his supporters prefix chowkidar their n...       1.0\n",
              "4  answer who among these the most powerful world...       1.0"
            ]
          },
          "metadata": {},
          "execution_count": 51
        }
      ]
    },
    {
      "cell_type": "markdown",
      "metadata": {
        "id": "etOpNfOcmjr7"
      },
      "source": [
        "verifying the values of category"
      ]
    },
    {
      "cell_type": "code",
      "metadata": {
        "colab": {
          "base_uri": "https://localhost:8080/"
        },
        "id": "zEHxbj86jyMA",
        "outputId": "c5569af2-031c-4b18-a8db-b52e2593ba6f"
      },
      "source": [
        "df['category'].value_counts()"
      ],
      "execution_count": 52,
      "outputs": [
        {
          "output_type": "execute_result",
          "data": {
            "text/plain": [
              " 1.0    72250\n",
              " 0.0    55213\n",
              "-1.0    35510\n",
              "Name: category, dtype: int64"
            ]
          },
          "metadata": {},
          "execution_count": 52
        }
      ]
    },
    {
      "cell_type": "markdown",
      "metadata": {
        "id": "f9t_rErlm1rH"
      },
      "source": [
        "above values indicates 1 is for positive 0 is for neutral -1 is for negtive"
      ]
    },
    {
      "cell_type": "code",
      "metadata": {
        "colab": {
          "base_uri": "https://localhost:8080/"
        },
        "id": "7BlwPklPm0Al",
        "outputId": "5e83b549-be6d-448c-9d5e-87bc667a1322"
      },
      "source": [
        "df.info()"
      ],
      "execution_count": 53,
      "outputs": [
        {
          "output_type": "stream",
          "name": "stdout",
          "text": [
            "<class 'pandas.core.frame.DataFrame'>\n",
            "RangeIndex: 162980 entries, 0 to 162979\n",
            "Data columns (total 2 columns):\n",
            " #   Column      Non-Null Count   Dtype  \n",
            "---  ------      --------------   -----  \n",
            " 0   clean_text  162976 non-null  object \n",
            " 1   category    162973 non-null  float64\n",
            "dtypes: float64(1), object(1)\n",
            "memory usage: 2.5+ MB\n"
          ]
        }
      ]
    },
    {
      "cell_type": "markdown",
      "metadata": {
        "id": "BpHjjUuRn6Vj"
      },
      "source": [
        "in real time we have fill this null values with help of bi team but here i am droping the rows"
      ]
    },
    {
      "cell_type": "code",
      "metadata": {
        "id": "PMNI9ivYnvTQ"
      },
      "source": [
        "df.dropna(inplace=True)"
      ],
      "execution_count": 54,
      "outputs": []
    },
    {
      "cell_type": "code",
      "metadata": {
        "colab": {
          "base_uri": "https://localhost:8080/"
        },
        "id": "PbRczpU0oifO",
        "outputId": "81157595-b87c-4704-af18-c1fb59d6ab8d"
      },
      "source": [
        "df.info()"
      ],
      "execution_count": 55,
      "outputs": [
        {
          "output_type": "stream",
          "name": "stdout",
          "text": [
            "<class 'pandas.core.frame.DataFrame'>\n",
            "Int64Index: 162969 entries, 0 to 162979\n",
            "Data columns (total 2 columns):\n",
            " #   Column      Non-Null Count   Dtype  \n",
            "---  ------      --------------   -----  \n",
            " 0   clean_text  162969 non-null  object \n",
            " 1   category    162969 non-null  float64\n",
            "dtypes: float64(1), object(1)\n",
            "memory usage: 3.7+ MB\n"
          ]
        }
      ]
    },
    {
      "cell_type": "markdown",
      "metadata": {
        "id": "eyGZh7rKo7_F"
      },
      "source": [
        "Preprocessing the data"
      ]
    },
    {
      "cell_type": "code",
      "metadata": {
        "id": "JideJK0boqMn"
      },
      "source": [
        "#define function to remove unwanted text from tweets\n",
        "import re\n",
        "def text_cleaning(text):\n",
        "  text=re.sub(r'@[A-Za-z0-9]+','',text)      #removing@mentions\n",
        "  text=re.sub(r'@[A-Za-zA-Z0-9]+','',text)\n",
        "  text=re.sub(r'@[A-Za-z]+','',text)\n",
        "  text=re.sub(r'@[-)]+','',text)\n",
        "  text=re.sub(r'#','',text)                  #removing # sign\n",
        "  text=re.sub(r'RT[\\s]+','',text)            #removing RT\n",
        "  text=re.sub(r'https?\\/\\/\\s+','',text)      # removing hyperlink\n",
        "  text=re.sub(r'&[a-z;]+','',text)           # removing &gt\n",
        "  return text"
      ],
      "execution_count": 56,
      "outputs": []
    },
    {
      "cell_type": "code",
      "metadata": {
        "id": "2iy-9pW5pTUi"
      },
      "source": [
        "#applying text cleaning for clean_text\n",
        "df['clean_text']=df['clean_text'].apply(text_cleaning)"
      ],
      "execution_count": 57,
      "outputs": []
    },
    {
      "cell_type": "code",
      "metadata": {
        "colab": {
          "base_uri": "https://localhost:8080/",
          "height": 204
        },
        "id": "EqP9yfd-rk-D",
        "outputId": "490ac8ab-2cbc-464c-e830-aea2e66816e6"
      },
      "source": [
        "df.head()"
      ],
      "execution_count": 58,
      "outputs": [
        {
          "output_type": "execute_result",
          "data": {
            "text/html": [
              "<div>\n",
              "<style scoped>\n",
              "    .dataframe tbody tr th:only-of-type {\n",
              "        vertical-align: middle;\n",
              "    }\n",
              "\n",
              "    .dataframe tbody tr th {\n",
              "        vertical-align: top;\n",
              "    }\n",
              "\n",
              "    .dataframe thead th {\n",
              "        text-align: right;\n",
              "    }\n",
              "</style>\n",
              "<table border=\"1\" class=\"dataframe\">\n",
              "  <thead>\n",
              "    <tr style=\"text-align: right;\">\n",
              "      <th></th>\n",
              "      <th>clean_text</th>\n",
              "      <th>category</th>\n",
              "    </tr>\n",
              "  </thead>\n",
              "  <tbody>\n",
              "    <tr>\n",
              "      <th>0</th>\n",
              "      <td>when modi promised “minimum government maximum...</td>\n",
              "      <td>-1.0</td>\n",
              "    </tr>\n",
              "    <tr>\n",
              "      <th>1</th>\n",
              "      <td>talk all the nonsense and continue all the dra...</td>\n",
              "      <td>0.0</td>\n",
              "    </tr>\n",
              "    <tr>\n",
              "      <th>2</th>\n",
              "      <td>what did just say vote for modi  welcome bjp t...</td>\n",
              "      <td>1.0</td>\n",
              "    </tr>\n",
              "    <tr>\n",
              "      <th>3</th>\n",
              "      <td>asking his supporters prefix chowkidar their n...</td>\n",
              "      <td>1.0</td>\n",
              "    </tr>\n",
              "    <tr>\n",
              "      <th>4</th>\n",
              "      <td>answer who among these the most powerful world...</td>\n",
              "      <td>1.0</td>\n",
              "    </tr>\n",
              "  </tbody>\n",
              "</table>\n",
              "</div>"
            ],
            "text/plain": [
              "                                          clean_text  category\n",
              "0  when modi promised “minimum government maximum...      -1.0\n",
              "1  talk all the nonsense and continue all the dra...       0.0\n",
              "2  what did just say vote for modi  welcome bjp t...       1.0\n",
              "3  asking his supporters prefix chowkidar their n...       1.0\n",
              "4  answer who among these the most powerful world...       1.0"
            ]
          },
          "metadata": {},
          "execution_count": 58
        }
      ]
    },
    {
      "cell_type": "code",
      "metadata": {
        "id": "is43SpVmrm0C"
      },
      "source": [
        "#spliting data into traing and testing\n",
        "from sklearn.model_selection import train_test_split\n",
        "x=df['clean_text']\n",
        "y=df['category']\n",
        "x_train,x_test,y_train,y_test=train_test_split(x,y,test_size=0.1)"
      ],
      "execution_count": 70,
      "outputs": []
    },
    {
      "cell_type": "code",
      "metadata": {
        "id": "0dNw5hesfc-m"
      },
      "source": [
        "#converting strings inti integers using tokenizer\n",
        "from tensorflow.keras.preprocessing.text import Tokenizer\n",
        "from tensorflow.keras.preprocessing.sequence import pad_sequences"
      ],
      "execution_count": 71,
      "outputs": []
    },
    {
      "cell_type": "code",
      "metadata": {
        "id": "6_sGrCzbg8XQ"
      },
      "source": [
        "#instantiating the tokenizer\n",
        "max_vocab=20000000\n",
        "tokenizer=Tokenizer(num_words=max_vocab)\n",
        "tokenizer.fit_on_texts(x_train)"
      ],
      "execution_count": 72,
      "outputs": []
    },
    {
      "cell_type": "code",
      "metadata": {
        "colab": {
          "base_uri": "https://localhost:8080/"
        },
        "id": "Fb3cAMtAhtOC",
        "outputId": "f6a93e3c-9b0e-4a1d-9934-b4881a99c540"
      },
      "source": [
        "#checking the word index\n",
        "word_index=tokenizer.word_index\n",
        "index_length=len(word_index)\n",
        "index_length"
      ],
      "execution_count": 73,
      "outputs": [
        {
          "output_type": "execute_result",
          "data": {
            "text/plain": [
              "106302"
            ]
          },
          "metadata": {},
          "execution_count": 73
        }
      ]
    },
    {
      "cell_type": "code",
      "metadata": {
        "id": "06a9GX3HiYMa"
      },
      "source": [
        "#converting train test data into sequence\n",
        "train_seq=tokenizer.texts_to_sequences(x_train)\n",
        "test_seq=tokenizer.texts_to_sequences(x_test)"
      ],
      "execution_count": 74,
      "outputs": []
    },
    {
      "cell_type": "code",
      "metadata": {
        "colab": {
          "base_uri": "https://localhost:8080/"
        },
        "id": "SkzmEvWji8MX",
        "outputId": "d364b27f-6d63-4bde-861f-40e4646354af"
      },
      "source": [
        "#padding the sequences because we need to have same length\n",
        "#padding train_sequence and test sequency\n",
        "pad_train=pad_sequences(train_seq)\n",
        "T=pad_train.shape[1]\n",
        "T"
      ],
      "execution_count": 75,
      "outputs": [
        {
          "output_type": "execute_result",
          "data": {
            "text/plain": [
              "52"
            ]
          },
          "metadata": {},
          "execution_count": 75
        }
      ]
    },
    {
      "cell_type": "code",
      "metadata": {
        "colab": {
          "base_uri": "https://localhost:8080/"
        },
        "id": "bJpcrCaEj2iZ",
        "outputId": "70cf6563-bbba-41c2-c68d-5101ca660bf0"
      },
      "source": [
        "pad_test=pad_sequences(test_seq,maxlen=T)\n",
        "len(pad_test[1])"
      ],
      "execution_count": 76,
      "outputs": [
        {
          "output_type": "execute_result",
          "data": {
            "text/plain": [
              "52"
            ]
          },
          "metadata": {},
          "execution_count": 76
        }
      ]
    },
    {
      "cell_type": "code",
      "metadata": {
        "id": "hJ92Pv97j5nQ"
      },
      "source": [
        "from tensorflow.keras.layers import Input,Embedding,LSTM,GlobalMaxPool1D,Dense\n",
        "from tensorflow.keras.models import Model"
      ],
      "execution_count": 77,
      "outputs": []
    },
    {
      "cell_type": "code",
      "metadata": {
        "id": "3jlc4LvTlmGT"
      },
      "source": [
        "#model building\n",
        "D=20 #embedding layer\n",
        "M=15 #LSTM layer\n",
        "v=51\n",
        "i=Input(shape=(T,))\n",
        "x=Embedding(index_length+1,D)(i)\n",
        "x=LSTM(M,return_sequences=True)(x)\n",
        "x=GlobalMaxPool1D()(x)\n",
        "x=Dense(32,activation='relu')(x)\n",
        "x=Dense(1,activation='sigmoid')(x)\n",
        "model=Model(i,x)"
      ],
      "execution_count": 78,
      "outputs": []
    },
    {
      "cell_type": "code",
      "metadata": {
        "id": "wRVqrSDtnc5G"
      },
      "source": [
        "#compiling the model\n",
        "model.compile(optimizer='adam',loss='binary_crossentropy',metrics=['accuracy'])"
      ],
      "execution_count": 79,
      "outputs": []
    },
    {
      "cell_type": "code",
      "metadata": {
        "colab": {
          "base_uri": "https://localhost:8080/"
        },
        "id": "JOBNDVahoOJv",
        "outputId": "51744de3-00a7-4c4c-f5e9-b8fee7fe02d5"
      },
      "source": [
        "#model_fitting\n",
        "fitted_model=model.fit(pad_train,y_train,validation_data=(pad_test,y_test),epochs=10)"
      ],
      "execution_count": 80,
      "outputs": [
        {
          "output_type": "stream",
          "name": "stdout",
          "text": [
            "Epoch 1/10\n",
            "4584/4584 [==============================] - 203s 44ms/step - loss: -289.9624 - accuracy: 0.6376 - val_loss: -940.7665 - val_accuracy: 0.6905\n",
            "Epoch 2/10\n",
            "4584/4584 [==============================] - 198s 43ms/step - loss: -2186.6079 - accuracy: 0.6974 - val_loss: -3594.3257 - val_accuracy: 0.7182\n",
            "Epoch 3/10\n",
            "4584/4584 [==============================] - 197s 43ms/step - loss: -5832.8970 - accuracy: 0.7041 - val_loss: -7708.8208 - val_accuracy: 0.6962\n",
            "Epoch 4/10\n",
            "4584/4584 [==============================] - 197s 43ms/step - loss: -11201.7764 - accuracy: 0.7110 - val_loss: -13012.0107 - val_accuracy: 0.6898\n",
            "Epoch 5/10\n",
            "4584/4584 [==============================] - 197s 43ms/step - loss: -18272.7480 - accuracy: 0.7116 - val_loss: -19998.8125 - val_accuracy: 0.7001\n",
            "Epoch 6/10\n",
            "4584/4584 [==============================] - 193s 42ms/step - loss: -27321.4043 - accuracy: 0.7097 - val_loss: -28057.1289 - val_accuracy: 0.6806\n",
            "Epoch 7/10\n",
            "4584/4584 [==============================] - 192s 42ms/step - loss: -38063.7930 - accuracy: 0.7059 - val_loss: -37906.2773 - val_accuracy: 0.6775\n",
            "Epoch 8/10\n",
            "4584/4584 [==============================] - 196s 43ms/step - loss: -50337.9531 - accuracy: 0.7036 - val_loss: -48745.8984 - val_accuracy: 0.6807\n",
            "Epoch 9/10\n",
            "4584/4584 [==============================] - 201s 44ms/step - loss: -64644.1602 - accuracy: 0.7007 - val_loss: -59053.5859 - val_accuracy: 0.6644\n",
            "Epoch 10/10\n",
            "4584/4584 [==============================] - 199s 43ms/step - loss: -80562.0547 - accuracy: 0.6998 - val_loss: -72661.8203 - val_accuracy: 0.6696\n"
          ]
        }
      ]
    },
    {
      "cell_type": "code",
      "metadata": {
        "colab": {
          "base_uri": "https://localhost:8080/",
          "height": 282
        },
        "id": "_iENxC2foxpb",
        "outputId": "c93d605a-eb43-4761-f4bd-59a8e26e5730"
      },
      "source": [
        "#Evaluating the model\n",
        "#ploting loss and val_loss of the model\n",
        "plt.plot(fitted_model.history['loss'],label='loss')\n",
        "plt.plot(fitted_model.history['val_loss'],label='val_loss')\n",
        "plt.legend()"
      ],
      "execution_count": 82,
      "outputs": [
        {
          "output_type": "execute_result",
          "data": {
            "text/plain": [
              "<matplotlib.legend.Legend at 0x7f848390f0d0>"
            ]
          },
          "metadata": {},
          "execution_count": 82
        },
        {
          "output_type": "display_data",
          "data": {
            "image/png": "[encoded data removed]",
            "text/plain": [
              "<Figure size 432x288 with 1 Axes>"
            ]
          },
          "metadata": {
            "needs_background": "light"
          }
        }
      ]
    },
    {
      "cell_type": "code",
      "metadata": {
        "colab": {
          "base_uri": "https://localhost:8080/",
          "height": 282
        },
        "id": "StVpY0YjTRoc",
        "outputId": "b164a4d5-ec7d-4667-b918-b81fda1074c0"
      },
      "source": [
        "#ploting accuracy and val_accuracy of the model\n",
        "plt.plot(fitted_model.history['accuracy'],label='laccuracy')\n",
        "plt.plot(fitted_model.history['val_accuracy'],label='val_accuracy')\n",
        "plt.legend()"
      ],
      "execution_count": 83,
      "outputs": [
        {
          "output_type": "execute_result",
          "data": {
            "text/plain": [
              "<matplotlib.legend.Legend at 0x7f8483f79790>"
            ]
          },
          "metadata": {},
          "execution_count": 83
        },
        {
          "output_type": "display_data",
          "data": {
            "image/png": "[encoded data removed]",
            "text/plain": [
              "<Figure size 432x288 with 1 Axes>"
            ]
          },
          "metadata": {
            "needs_background": "light"
          }
        }
      ]
    },
    {
      "cell_type": "code",
      "metadata": {
        "id": "KCeSOgNET43w"
      },
      "source": [
        "#predicting the sentiment of any text\n",
        "def predict_sentiment(text):\n",
        "  #preprocessing given text\n",
        "  text_seq=tokenizer.texts_to_sequences(text)\n",
        "  text_pad=pad_sequences(text_seq,maxlen=T)\n",
        "  #predicting the class\n",
        "  predict_sentiment=model.predict(text_pad).round()\n",
        "\n",
        "  if predict_sentiment==1.0:\n",
        "    return(print('it is a positive sentiment'))\n",
        "  elif predict_sentiment==0:\n",
        "    return(print('it is a neutral sentiment'))\n",
        "  else:\n",
        "    return(print('it is a negtive sentiment'))\n"
      ],
      "execution_count": 84,
      "outputs": []
    },
    {
      "cell_type": "code",
      "metadata": {
        "colab": {
          "base_uri": "https://localhost:8080/"
        },
        "id": "XWIYXRQaWB_M",
        "outputId": "4871b1b0-53cc-476d-cb69-58dee789e6f6"
      },
      "source": [
        "text=['i feel happy']\n",
        "predict_sentiment(text)"
      ],
      "execution_count": 85,
      "outputs": [
        {
          "output_type": "stream",
          "name": "stdout",
          "text": [
            "it is a positive sentiment\n"
          ]
        }
      ]
    },
    {
      "cell_type": "code",
      "metadata": {
        "colab": {
          "base_uri": "https://localhost:8080/"
        },
        "id": "P1r7RXauWaAq",
        "outputId": "f8a75d9c-4766-405b-f95d-38f31bd08c62"
      },
      "source": [
        " #saving model for future purpose\n",
        " model.save(r'C:\\Users\\abhi\\Documents\\nlp','sentiment_analysis.h5')"
      ],
      "execution_count": 90,
      "outputs": [
        {
          "output_type": "stream",
          "name": "stderr",
          "text": [
            "WARNING:absl:Found untraced functions such as lstm_cell_5_layer_call_fn, lstm_cell_5_layer_call_and_return_conditional_losses, lstm_cell_5_layer_call_fn, lstm_cell_5_layer_call_and_return_conditional_losses, lstm_cell_5_layer_call_and_return_conditional_losses while saving (showing 5 of 5). These functions will not be directly callable after loading.\n"
          ]
        },
        {
          "output_type": "stream",
          "name": "stdout",
          "text": [
            "INFO:tensorflow:Assets written to: C:\\Users\\abhi\\Documents\\nlp/assets\n"
          ]
        },
        {
          "output_type": "stream",
          "name": "stderr",
          "text": [
            "INFO:tensorflow:Assets written to: C:\\Users\\abhi\\Documents\\nlp/assets\n"
          ]
        }
      ]
    },
    {
      "cell_type": "code",
      "metadata": {
        "id": "QyyiQIWncd3j"
      },
      "source": [
        ""
      ],
      "execution_count": null,
      "outputs": []
    }
  ]
}